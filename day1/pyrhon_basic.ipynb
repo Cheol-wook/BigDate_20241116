{
 "cells": [
  {
   "cell_type": "markdown",
   "metadata": {},
   "source": [
    "마크다운 설명\n",
    "(연구 분류를 위한 목적)\n",
    "\n",
    "# 대제목\n",
    "## 제목\n",
    "### 소제목\n",
    "#### 소소제목\n",
    "##### 제목5\n",
    "###### 제목6\n",
    "\n",
    "일반텍스트\n",
    "- 목록\n",
    "    1. 숫자목록1\n",
    "    2. 숫자목록2\n",
    "\n",
    "        <!--이미지 사이즈 조정 불가-->\n",
    "        ![이미지]('링크추가')\n",
    "        <!--이미지 사이즈 조정 가능한 HTML 태크 형태-->\n",
    "        <img src='' width='700'> -> 그림삽입가능\n"
   ]
  },
  {
   "cell_type": "code",
   "execution_count": 3,
   "metadata": {},
   "outputs": [
    {
     "name": "stdout",
     "output_type": "stream",
     "text": [
      "Hello Python\n"
     ]
    }
   ],
   "source": [
    "#주피터 노트북에서는 Ctrl + F5로 실행하지 않음\n",
    "#Cntl + Enter로 실행\n",
    "#주피터 노트북은 개발자보다는 연구자를 위한 프로그램\n",
    "\n",
    "print('Hello Python')"
   ]
  }
 ],
 "metadata": {
  "kernelspec": {
   "display_name": "Python 3",
   "language": "python",
   "name": "python3"
  },
  "language_info": {
   "codemirror_mode": {
    "name": "ipython",
    "version": 3
   },
   "file_extension": ".py",
   "mimetype": "text/x-python",
   "name": "python",
   "nbconvert_exporter": "python",
   "pygments_lexer": "ipython3",
   "version": "3.11.5"
  }
 },
 "nbformat": 4,
 "nbformat_minor": 2
}
